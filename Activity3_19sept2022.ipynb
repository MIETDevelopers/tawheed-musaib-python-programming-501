{
 "cells": [
  {
   "cell_type": "markdown",
   "id": "0ea7087a",
   "metadata": {},
   "source": [
    "Notebook Created By : Tawheed Musaib"
   ]
  },
  {
   "cell_type": "markdown",
   "id": "6eac796b",
   "metadata": {},
   "source": [
    "1.Count the number of alphabets in the given string"
   ]
  },
  {
   "cell_type": "code",
   "execution_count": 12,
   "id": "92bb3653",
   "metadata": {},
   "outputs": [
    {
     "name": "stdout",
     "output_type": "stream",
     "text": [
      "Original String: Welcome to Python World\n",
      "Number of Alphabets in string: 20\n"
     ]
    }
   ],
   "source": [
    "givenStr = 'Welcome to Python World'\n",
    "print('Original String:', givenStr)\n",
    "num = len([ele for ele in givenStr if ele.isalpha()])\n",
    "print('Number of Alphabets in string:', num)"
   ]
  },
  {
   "cell_type": "markdown",
   "id": "570fbf71",
   "metadata": {},
   "source": [
    "2.Extract the characters in the given range from the given string"
   ]
  },
  {
   "cell_type": "code",
   "execution_count": 13,
   "id": "3e9d4cca",
   "metadata": {},
   "outputs": [
    {
     "name": "stdout",
     "output_type": "stream",
     "text": [
      "Original String: Welcome to Python World\n",
      "Extracted String: Python World\n"
     ]
    }
   ],
   "source": [
    "givenStr = 'Welcome to Python World'\n",
    "print('Original String:', givenStr)\n",
    "start, end = 11, 25\n",
    "resultStr = ''.join([ele for ele in givenStr])[start:end]\n",
    "print('Extracted String:', resultStr)"
   ]
  },
  {
   "cell_type": "markdown",
   "id": "e65f720e",
   "metadata": {},
   "source": [
    "3.Check Whether the given string is alphanumeric"
   ]
  },
  {
   "cell_type": "code",
   "execution_count": 16,
   "id": "d08dd801",
   "metadata": {},
   "outputs": [
    {
     "name": "stdout",
     "output_type": "stream",
     "text": [
      "is not alphanumeric\n"
     ]
    }
   ],
   "source": [
    "givenStr = 'Welcome to Python World'\n",
    "if givenStr.isalnum():\n",
    "    print('is alphanumeric.')\n",
    "else:\n",
    "    print('is not alphanumeric')"
   ]
  },
  {
   "cell_type": "markdown",
   "id": "f2c10e8f",
   "metadata": {},
   "source": [
    "4.Calculate the length of string"
   ]
  },
  {
   "cell_type": "code",
   "execution_count": 17,
   "id": "c817b147",
   "metadata": {},
   "outputs": [
    {
     "name": "stdout",
     "output_type": "stream",
     "text": [
      "Enter the string: Tawheedmusaib\n",
      "Length of the given string is 13\n"
     ]
    }
   ],
   "source": [
    "str1 = str(input(\"Enter the string: \"))\n",
    "print(\"Length of the given string is\", len(str1))"
   ]
  },
  {
   "cell_type": "markdown",
   "id": "7b0dc8d1",
   "metadata": {},
   "source": [
    "5.Convert Later part of string to uppercase"
   ]
  },
  {
   "cell_type": "code",
   "execution_count": 18,
   "id": "e1ccf180",
   "metadata": {},
   "outputs": [
    {
     "name": "stdout",
     "output_type": "stream",
     "text": [
      "tawheeDMUSAIB\n"
     ]
    }
   ],
   "source": [
    "str2 = \"tawheedmusaib\"\n",
    "str3 = str2[:6]\n",
    "str4 = str2[6:].upper()\n",
    "\n",
    "print(str3 + str4)"
   ]
  },
  {
   "cell_type": "code",
   "execution_count": null,
   "id": "b4039c1d",
   "metadata": {},
   "outputs": [],
   "source": []
  }
 ],
 "metadata": {
  "kernelspec": {
   "display_name": "Python 3 (ipykernel)",
   "language": "python",
   "name": "python3"
  },
  "language_info": {
   "codemirror_mode": {
    "name": "ipython",
    "version": 3
   },
   "file_extension": ".py",
   "mimetype": "text/x-python",
   "name": "python",
   "nbconvert_exporter": "python",
   "pygments_lexer": "ipython3",
   "version": "3.10.7"
  }
 },
 "nbformat": 4,
 "nbformat_minor": 5
}
