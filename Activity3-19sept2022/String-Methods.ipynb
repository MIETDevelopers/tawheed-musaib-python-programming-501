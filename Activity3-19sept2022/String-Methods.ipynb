{
 "cells": [
  {
   "cell_type": "markdown",
   "id": "11234115",
   "metadata": {},
   "source": [
    "Notebook Created By : Tawheed Musaib"
   ]
  },
  {
   "cell_type": "markdown",
   "id": "104ac5df",
   "metadata": {},
   "source": [
    "### Some Built-in Methods:"
   ]
  },
  {
   "cell_type": "markdown",
   "id": "318e2946",
   "metadata": {},
   "source": [
    "## .capitalize(): Capitalizes first letter of string"
   ]
  },
  {
   "cell_type": "code",
   "execution_count": 1,
   "id": "e58a5cf0",
   "metadata": {},
   "outputs": [
    {
     "data": {
      "text/plain": [
       "'Hello'"
      ]
     },
     "execution_count": 1,
     "metadata": {},
     "output_type": "execute_result"
    }
   ],
   "source": [
    "str3 = 'hello'\n",
    "str3.capitalize()"
   ]
  },
  {
   "cell_type": "markdown",
   "id": "be097930",
   "metadata": {},
   "source": [
    "##center(length, character): The center() method will center align the string, using a specified character (space is default) as the fill character."
   ]
  },
  {
   "cell_type": "code",
   "execution_count": 2,
   "id": "b8fb7036",
   "metadata": {},
   "outputs": [
    {
     "name": "stdout",
     "output_type": "stream",
     "text": [
      "       Hello        \n"
     ]
    }
   ],
   "source": [
    "txt = 'Hello'\n",
    "x = txt.center(20)\n",
    "print(x)"
   ]
  },
  {
   "cell_type": "markdown",
   "id": "18bc3231",
   "metadata": {},
   "source": [
    "### count(value, start, end): The count() method returns the number of times a specified value appears in the string."
   ]
  },
  {
   "cell_type": "code",
   "execution_count": 3,
   "id": "8de61596",
   "metadata": {},
   "outputs": [
    {
     "name": "stdout",
     "output_type": "stream",
     "text": [
      "A appears 5 times in a given string\n"
     ]
    }
   ],
   "source": [
    "str1 = 'ABCAABCDEAA'\n",
    "length = len(str1)\n",
    "n = str1.count('A', 0, length)\n",
    "print(\"A appears %d times in a given string\" % n)\n"
   ]
  },
  {
   "cell_type": "markdown",
   "id": "9022b9f5",
   "metadata": {},
   "source": [
    "## encode(encoding, errors): The encode() method encodes the string, using the specified encoding. If no encoding is specified, UTF-8 will be used.\n"
   ]
  },
  {
   "cell_type": "markdown",
   "id": "cda74da1",
   "metadata": {},
   "source": [
    "##decode(encoding, errors): Decodes the string using the codec registered for encoding, encoding defaults to the default string encodeing."
   ]
  },
  {
   "cell_type": "markdown",
   "id": "1b6e7990",
   "metadata": {},
   "source": [
    "##split(): The method splits string into a list.\n"
   ]
  },
  {
   "cell_type": "code",
   "execution_count": 4,
   "id": "864715c2",
   "metadata": {},
   "outputs": [
    {
     "name": "stdout",
     "output_type": "stream",
     "text": [
      "Number of words of the text:5\n"
     ]
    }
   ],
   "source": [
    "text = 'Python is high-level programming language'\n",
    "words = text.split()\n",
    "l = len(words)\n",
    "print('Number of words of the text:%d' % l)"
   ]
  },
  {
   "cell_type": "markdown",
   "id": "63b59a2a",
   "metadata": {},
   "source": [
    ".replace(): The method replaces a specified phrase with another specified phrase.### "
   ]
  },
  {
   "cell_type": "code",
   "execution_count": 5,
   "id": "bd89fba7",
   "metadata": {},
   "outputs": [
    {
     "name": "stdout",
     "output_type": "stream",
     "text": [
      "this is &he s&ring\n"
     ]
    }
   ],
   "source": [
    "def changement(str1):\n",
    "    char = str1[0]\n",
    "    str1 = str1.replace(char, '&')\n",
    "    str1 = char + str1[1:]\n",
    "    return str1\n",
    "print(changement('this is the string'))"
   ]
  },
  {
   "cell_type": "markdown",
   "id": "08deb586",
   "metadata": {},
   "source": [
    ".lower(): Converts all uppercase letters in string to lowercase."
   ]
  },
  {
   "cell_type": "code",
   "execution_count": 6,
   "id": "797f7535",
   "metadata": {},
   "outputs": [
    {
     "name": "stdout",
     "output_type": "stream",
     "text": [
      "helloworld\n"
     ]
    }
   ],
   "source": [
    "test_str = 'HELLOWORLD'\n",
    "print(test_str.lower())"
   ]
  },
  {
   "cell_type": "markdown",
   "id": "de64ca57",
   "metadata": {},
   "source": [
    ".upper(): Converts a string into upper case."
   ]
  },
  {
   "cell_type": "code",
   "execution_count": 7,
   "id": "a7016dc0",
   "metadata": {},
   "outputs": [
    {
     "name": "stdout",
     "output_type": "stream",
     "text": [
      "HELLOWORLD\n"
     ]
    }
   ],
   "source": [
    "test_str = 'helloworld'\n",
    "print(test_str.upper())"
   ]
  },
  {
   "cell_type": "markdown",
   "id": "941a89bd",
   "metadata": {},
   "source": [
    ".join(): The method takes all items in an iterable and joins them into one string."
   ]
  },
  {
   "cell_type": "code",
   "execution_count": 8,
   "id": "bfb2f144",
   "metadata": {},
   "outputs": [
    {
     "name": "stdout",
     "output_type": "stream",
     "text": [
      "hi how are you\n"
     ]
    }
   ],
   "source": [
    "sampleList = ['hi', 'how', 'are', 'you']\n",
    "text = \" \".join(sampleList)\n",
    "print(text)"
   ]
  },
  {
   "cell_type": "markdown",
   "id": "d6b81b5f",
   "metadata": {},
   "source": [
    ".isalpha(): The method returns True if all the characters are alphabet letters (a-z)."
   ]
  },
  {
   "cell_type": "code",
   "execution_count": 9,
   "id": "5d01e5b1",
   "metadata": {},
   "outputs": [
    {
     "data": {
      "text/plain": [
       "True"
      ]
     },
     "execution_count": 9,
     "metadata": {},
     "output_type": "execute_result"
    }
   ],
   "source": [
    "s = 'Abcd'\n",
    "s.isalpha()"
   ]
  },
  {
   "cell_type": "markdown",
   "id": "36e02869",
   "metadata": {},
   "source": [
    ".isalnum(): The method returns True if all the characters are alphanumeric, meaning alphabet letter (a-z) and numbers (0-9)."
   ]
  },
  {
   "cell_type": "code",
   "execution_count": 10,
   "id": "1532da53",
   "metadata": {},
   "outputs": [
    {
     "name": "stdout",
     "output_type": "stream",
     "text": [
      "True\n",
      "False\n"
     ]
    }
   ],
   "source": [
    "s1 = 'abcd123'\n",
    "print(s1.isalnum())\n",
    "\n",
    "s2 = 'ab@@!!'\n",
    "print(s2.isalnum())"
   ]
  },
  {
   "cell_type": "code",
   "execution_count": null,
   "id": "c714dd86",
   "metadata": {},
   "outputs": [],
   "source": []
  }
 ],
 "metadata": {
  "kernelspec": {
   "display_name": "Python 3 (ipykernel)",
   "language": "python",
   "name": "python3"
  },
  "language_info": {
   "codemirror_mode": {
    "name": "ipython",
    "version": 3
   },
   "file_extension": ".py",
   "mimetype": "text/x-python",
   "name": "python",
   "nbconvert_exporter": "python",
   "pygments_lexer": "ipython3",
   "version": "3.10.7"
  }
 },
 "nbformat": 4,
 "nbformat_minor": 5
}
