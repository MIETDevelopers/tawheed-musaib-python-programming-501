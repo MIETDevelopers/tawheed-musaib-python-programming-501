{
 "cells": [
  {
   "cell_type": "markdown",
   "id": "9a9d5b93",
   "metadata": {},
   "source": [
    "Notebook Created By : Tawheed Musaib"
   ]
  },
  {
   "cell_type": "markdown",
   "id": "0159049d",
   "metadata": {},
   "source": [
    "Strings:"
   ]
  },
  {
   "cell_type": "markdown",
   "id": "e29be208",
   "metadata": {},
   "source": [
    "Python has a built-in string class name \"str\" with many handy features. String literals can be enclosed by either double or single quotes, although single quotes are more commonly used. Python strings are \"immutable\" which means they cannot be changed after they are created."
   ]
  },
  {
   "cell_type": "code",
   "execution_count": 1,
   "id": "cbd6eadd",
   "metadata": {},
   "outputs": [
    {
     "name": "stdout",
     "output_type": "stream",
     "text": [
      "Hello World\n"
     ]
    }
   ],
   "source": [
    "# Creating String\n",
    "str1 = 'Hello World'\n",
    "print(str1)"
   ]
  },
  {
   "cell_type": "code",
   "execution_count": 2,
   "id": "5cd2ef2a",
   "metadata": {},
   "outputs": [
    {
     "data": {
      "text/plain": [
       "'a'"
      ]
     },
     "execution_count": 2,
     "metadata": {},
     "output_type": "execute_result"
    }
   ],
   "source": [
    "# Accessing string elements\n",
    "str2 = 'Learning Python'\n",
    "str2[2]"
   ]
  },
  {
   "cell_type": "code",
   "execution_count": 4,
   "id": "b183f8e9",
   "metadata": {},
   "outputs": [
    {
     "data": {
      "text/plain": [
       "'Tawheed'"
      ]
     },
     "execution_count": 4,
     "metadata": {},
     "output_type": "execute_result"
    }
   ],
   "source": [
    "# Slicing\n",
    "str3 = \"My Name is Tawheed\"\n",
    "str3[11:]"
   ]
  },
  {
   "cell_type": "code",
   "execution_count": 5,
   "id": "b5299761",
   "metadata": {},
   "outputs": [
    {
     "data": {
      "text/plain": [
       "'olleH'"
      ]
     },
     "execution_count": 5,
     "metadata": {},
     "output_type": "execute_result"
    }
   ],
   "source": [
    "# Reverse string\n",
    "str1 = 'Hello'\n",
    "str1[::-1]"
   ]
  },
  {
   "cell_type": "code",
   "execution_count": 6,
   "id": "ed008f19",
   "metadata": {},
   "outputs": [
    {
     "name": "stdout",
     "output_type": "stream",
     "text": [
      "I am Learning Python\n"
     ]
    }
   ],
   "source": [
    "# String Concatenation\n",
    "str1 = 'I am Learning '\n",
    "str2 = 'Python'\n",
    "text = str1 + str2\n",
    "print(text)"
   ]
  },
  {
   "cell_type": "markdown",
   "id": "a243833c",
   "metadata": {},
   "source": [
    "str(): It converts values to a string form so they can be combines with other strings"
   ]
  },
  {
   "cell_type": "code",
   "execution_count": 7,
   "id": "f6df7809",
   "metadata": {},
   "outputs": [
    {
     "name": "stdout",
     "output_type": "stream",
     "text": [
      "123456\n"
     ]
    }
   ],
   "source": [
    "num = 123\n",
    "str1 = '456'\n",
    "text = str(num) + str1\n",
    "print(text)"
   ]
  },
  {
   "cell_type": "code",
   "execution_count": null,
   "id": "f052cf8b",
   "metadata": {},
   "outputs": [],
   "source": []
  }
 ],
 "metadata": {
  "kernelspec": {
   "display_name": "Python 3 (ipykernel)",
   "language": "python",
   "name": "python3"
  },
  "language_info": {
   "codemirror_mode": {
    "name": "ipython",
    "version": 3
   },
   "file_extension": ".py",
   "mimetype": "text/x-python",
   "name": "python",
   "nbconvert_exporter": "python",
   "pygments_lexer": "ipython3",
   "version": "3.10.7"
  }
 },
 "nbformat": 4,
 "nbformat_minor": 5
}
